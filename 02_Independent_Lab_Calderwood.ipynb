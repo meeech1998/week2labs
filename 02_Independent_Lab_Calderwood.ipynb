{
 "cells": [
  {
   "cell_type": "markdown",
   "id": "c5ecce56-843a-4c4a-837a-e269ca2e608c",
   "metadata": {},
   "source": [
    "# Celsius to Fahrenheit Converter\n",
    "## Week 2 Independent Lab\n",
    "### Michelle Calderwood | 3.10.2025\n",
    "\n",
    "Welcome! This notebook will take a Celsius temperature input, convert it to Fahrenheit, and display the result.\n",
    "\n",
    "**Formula:**\n",
    "> Fahrenheit = (9/5) * Celsius + 32\n",
    "\n",
    "---\n",
    "### General Notes: \n",
    "#### Use of Online Resources\n",
    "For this assignment, I used ChatGPT as a resource. Specifically, I provided a screenshot of the assignment with the query:  \n",
    "*\"Give examples & explanation to each without showing the answer so I can learn the concepts.\"*  \n",
    "\n",
    "ChatGPT provided structured examples and explanations to help me understand the concepts, but I wrote my own code and solutions based on that understanding.\n"
   ]
  },
  {
   "cell_type": "markdown",
   "id": "b877b18f-041e-49b6-8d08-2ed14e59dc73",
   "metadata": {},
   "source": [
    "# Step 1: Define Variables\n",
    "We define two variables:\n",
    "- `celsius`: to store the user-input Celsius value\n",
    "- `fahrenheit`: to store the converted Fahrenheit value\n",
    "Initially, we assign them both to `0.0`."
   ]
  },
  {
   "cell_type": "code",
   "execution_count": 72,
   "id": "d0e1bc2a-cbd6-489c-a849-d898eab6cf69",
   "metadata": {},
   "outputs": [],
   "source": [
    "celsius = 0.0  # Holds the Celsius value from user input\n",
    "fahrenheit = 0.0  # Holds the converted Fahrenheit value"
   ]
  },
  {
   "cell_type": "markdown",
   "id": "6c5cbb39-b8f9-4fd0-8022-8823f87646a7",
   "metadata": {},
   "source": [
    "# Step 2: Get User Input\n",
    "We ask the user to enter a temperature in Celsius.\n",
    "Since `input()` returns a string, we must convert it to `float` to perform calculations.\n",
    "\n",
    "### Explanation:\n",
    "Using float() ensures accuracy in temperature conversions, while int() would lose precision. If we were dealing with whole number inputs (e.g., counting the number of students in a class), int() would be more appropriate."
   ]
  },
  {
   "cell_type": "code",
   "execution_count": 98,
   "id": "b1e6f679-7271-4bbc-9712-6e678ffade8a",
   "metadata": {},
   "outputs": [
    {
     "name": "stdin",
     "output_type": "stream",
     "text": [
      "Please provide a value, in Celsius, to convert:  37\n"
     ]
    }
   ],
   "source": [
    "celsius = float(input(\"Please provide a value, in Celsius, to convert: \"))"
   ]
  },
  {
   "cell_type": "markdown",
   "id": "97509734-42d1-4bb8-837c-b70f0d82af21",
   "metadata": {},
   "source": [
    "# Step 3: Convert Celsius to Fahrenheit\n",
    "Using the formula:\n",
    "    Fahrenheit = (9/5) * Celsius + 32\n",
    "We compute the Fahrenheit equivalent."
   ]
  },
  {
   "cell_type": "code",
   "execution_count": 100,
   "id": "492bd5c8-fff8-484c-a16b-2e4ed58dbdec",
   "metadata": {},
   "outputs": [],
   "source": [
    "fahrenheit = (9 / 5) * celsius + 32"
   ]
  },
  {
   "cell_type": "markdown",
   "id": "313b9268-9773-4710-ab46-06675bd56292",
   "metadata": {},
   "source": [
    "# Step 4: Display the Result Using String Interpolation\n",
    "We use f-string formatting to present the result in a user-friendly way."
   ]
  },
  {
   "cell_type": "code",
   "execution_count": 102,
   "id": "aa9d5b30-1930-4e06-93b6-f527bb691a63",
   "metadata": {},
   "outputs": [
    {
     "name": "stdout",
     "output_type": "stream",
     "text": [
      "37.0 degrees Celsius is 98.60000000000001 degrees Fahrenheit.\n"
     ]
    }
   ],
   "source": [
    "print(f\"{celsius} degrees Celsius is {fahrenheit} degrees Fahrenheit.\")"
   ]
  },
  {
   "cell_type": "markdown",
   "id": "4ed6dcbe-76b6-4614-99bb-0761120a6eaf",
   "metadata": {},
   "source": [
    "# Step 5: Check Against Common Temperature Table\n",
    "We compare the converted values with common temperatures for verification.\n",
    "Example expected results:\n",
    "- 0°C → 32°F (Freezing point of water)\n",
    "- 37°C → 98.6°F (Body temperature)\n",
    "- 100°C → 212°F (Boiling point of water)"
   ]
  },
  {
   "cell_type": "markdown",
   "id": "6683fa75-0550-4fe3-a527-da9f107beab4",
   "metadata": {},
   "source": [
    "# Step 6: Convert Fahrenheit to Integer for Simplicity\n",
    "To demonstrate type conversion, we convert the Fahrenheit result into an integer.\n",
    "This is useful in cases where decimal precision is not required."
   ]
  },
  {
   "cell_type": "code",
   "execution_count": 104,
   "id": "9b9225ce-957a-40f0-8225-dc4c654d83ea",
   "metadata": {},
   "outputs": [
    {
     "name": "stdout",
     "output_type": "stream",
     "text": [
      "Rounded Fahrenheit temperature: 98°F\n"
     ]
    }
   ],
   "source": [
    "int_fahrenheit = int(fahrenheit)\n",
    "print(f\"Rounded Fahrenheit temperature: {int_fahrenheit}°F\")"
   ]
  },
  {
   "cell_type": "markdown",
   "id": "ea2fdfd6-23f3-4324-9fcd-941d94c1785e",
   "metadata": {},
   "source": [
    "# Final Notes\n",
    "- We used type conversion (`float()` and `int()`).\n",
    "- We applied string interpolation (`f\"{}\"` formatting).\n",
    "- We verified the output against expected values.\n",
    "- The notebook is structured with Markdown cells explaining each step."
   ]
  },
  {
   "cell_type": "code",
   "execution_count": null,
   "id": "9a2e2f4d-a96f-4fb2-9515-f822ad0396f3",
   "metadata": {},
   "outputs": [],
   "source": []
  }
 ],
 "metadata": {
  "kernelspec": {
   "display_name": "Python [conda env:base] *",
   "language": "python",
   "name": "conda-base-py"
  },
  "language_info": {
   "codemirror_mode": {
    "name": "ipython",
    "version": 3
   },
   "file_extension": ".py",
   "mimetype": "text/x-python",
   "name": "python",
   "nbconvert_exporter": "python",
   "pygments_lexer": "ipython3",
   "version": "3.12.7"
  }
 },
 "nbformat": 4,
 "nbformat_minor": 5
}
