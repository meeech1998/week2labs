





# Assign an integer (whole number)
example_int = 8  # Any number between 1 and 20

print(example_int)


# Assign a large number (integer without commas)
large_number = 9876543210  # A large whole number

print(large_number)


# Assign a decimal (floating-point number)
example_float = 2.71828  # A float with decimals

print(example_float)


# Assign a high-precision floating number (13 decimals)
high_precision_float = 0.1234567890123  # A more precise float

print(high_precision_float)


# Assign an even higher precision number (20 decimals)
very_high_precision_float = 0.12345678901234567890  # A very precise float

print(very_high_precision_float)


# Assign a single uppercase letter
uppercase_letter = 'X'  # A single character

print(uppercase_letter)


# Assign a greeting message
greeting_message = "Hello, Python learners!"  # A string for greeting

print(greeting_message)


# Assign a farewell message
farewell_message = "Goodbye and see you next time!"  # A string for farewell

print(farewell_message)


# Convert a number to an integer
converted_int = int(12.99)  # Removes decimals and keeps the whole number
print(my_new_int)


# Convert a number to a float
converted_float = float(2)  # Converts an integer into a floating number




