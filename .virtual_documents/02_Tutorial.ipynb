


x = 33
y = 3
if x > y:
print("x is greater than y")





x = 33
y = 3
if x > y:
    print("x is greater than y")





# Create variables x and y
x = 33
y = 3

# Compare the variables using if
if x > y:
    print("x is greater than y")





# Create variables x and y
x = 33
y = 3

# Compare the variables using if
if x > Y:
    print("x is greater than y")





print(x)
print(y)


print(x, y)


x


x, y








type(x)


print(type(x))





# Create the variable x
x = float(33)

# Print the value and data type of variable x
print(x)
print(type(x))





course = "BGEN 632 Grad. Intro. to Python"
print(course)





greeting = "Hello World!"
print(greeting)


greeting = "      Hello World!       "
print(greeting)


greeting = "H e l l o W o r l d !"
print(greeting)





# Create the variables course_id and course_name
course_id = "BGEN 632"
course_name = "Grad. Intro. to Python"

# Concatenate the variables course_id and course_name with an empty space string and create a new variable course
course = course_id + " " + course_name

# Print the variable course
print(course)





# Create the variables course_number and course_prefix
course_prefix = "BGEN"
course_number = 632

# Concatenate the variables course_number and course_prefix and create a new variable course_id
course_id = course_prefix + " " + course_number

# Print the variable course_id
print(course_id)





# Create the variables course_number and course_prefix
course_prefix = "BGEN"
course_number = "632"

# Concatenate the variables course_number and course_prefix and create a new variable course_id
course_id = course_prefix + " " + course_number

# Print the variable course_id
print(course_id)





# Create the variables course_number and course_prefix
course_prefix = "BGEN"
course_number = 632

# Concatenate course_number and course_prefix, converting course_number to string type, and create a new variable course_id
course_id = course_prefix + " " + str(course_number)

# Print the variable course_id
print(course_id)





course_id = "BGEN 632"
course_name = "Grad. Intro. to Python"
intro = "Welcome to"
spacing = " "
punctuation = "!"

course_intro = intro + spacing + course_id + spacing + course_name + punctuation

print(course_intro)





course_number = 632
print("BGEN %d" % (course_number))





course_prefix = "BGEN"
course_number = 632

print("%s %d Grad. Intro. to Python" % (course_prefix, course_number))





course_id = "BGEN 632"
course_name = "Grad. Intro. to Python"
punctuation = "!"

print("Welcome to %s %s%s" % (course_id, course_name, punctuation))





course_prefix = "BGEN"
course_number = 632

print("{} {} Grad. Intro. to Python" .format(course_prefix, course_number))





course_prefix = "BGEN"
course_number = 632

print(f"{course_prefix} {course_number} Grad. Intro. to Python")








course_intro = "Welcome to BGEN 632 Grad. Intro. to Python!"

print(len(course_intro))


len(course_intro)





print(course_intro[0])
print(course_intro[1])
print(course_intro[2])
print(course_intro[3])
print(course_intro[4])
print(course_intro[5])
print(course_intro[6])





machine_welcome = 'The machine said, "Welcome to BGEN 632 Grad. Intro. to Python!"'
print(machine_welcome)


machine_welcome = "The machine said, 'Welcome BGEN 632 Grad. Intro. to Python!'"
print(machine_welcome)





machine_welcome = "The machine said, \"Welcome to BGEN 632 Grad. Intro. to Python!\""
print(machine_welcome)



