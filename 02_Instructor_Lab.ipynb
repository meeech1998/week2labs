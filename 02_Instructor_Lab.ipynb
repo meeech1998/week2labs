{
 "cells": [
  {
   "cell_type": "markdown",
   "id": "2f59d3cf-206a-4030-987a-6c80e02ad180",
   "metadata": {
    "panel-layout": {
     "height": 51.140625,
     "visible": true,
     "width": 100
    }
   },
   "source": [
    "Start writing code here"
   ]
  },
  {
   "cell_type": "markdown",
   "id": "193d5c35-9b0f-480f-adef-49c50f1a6821",
   "metadata": {
    "panel-layout": {
     "height": 10,
     "visible": true,
     "width": 100
    }
   },
   "source": [
    "# Instructor Lab Week 2\n",
    "### Michelle Calderwood | 3.7.2025\n",
    "### General Notes: \n",
    "#### Accidental Delete\n",
    "I was starting my work after reading the Lab Instructions and accidentally pressed a key & the instructions went away. \n",
    "#### Use of Online Resources\n",
    "For this assignment, I used ChatGPT as a resource. Specifically, I provided a screenshot of the assignment with the query:  \n",
    "*\"Give examples & explanation to each without showing the answer so I can learn the concepts.\"*  \n",
    "\n",
    "ChatGPT provided structured examples and explanations to help me understand the concepts, but I wrote my own code and solutions based on that understanding.\n"
   ]
  },
  {
   "cell_type": "code",
   "execution_count": 37,
   "id": "f05d483b-732c-47c3-9d66-abc5a5d72f94",
   "metadata": {},
   "outputs": [
    {
     "name": "stdout",
     "output_type": "stream",
     "text": [
      "8\n"
     ]
    }
   ],
   "source": [
    "# Assign an integer (whole number)\n",
    "example_int = 8  # Any number between 1 and 20\n",
    "\n",
    "print(example_int)"
   ]
  },
  {
   "cell_type": "code",
   "execution_count": 39,
   "id": "331c8737-eb06-49b2-9c3f-6e8f86e7f2ac",
   "metadata": {},
   "outputs": [
    {
     "name": "stdout",
     "output_type": "stream",
     "text": [
      "9876543210\n"
     ]
    }
   ],
   "source": [
    "# Assign a large number (integer without commas)\n",
    "large_number = 9876543210  # A large whole number\n",
    "\n",
    "print(large_number)"
   ]
  },
  {
   "cell_type": "code",
   "execution_count": 41,
   "id": "2506c1df-ddb6-49b3-9162-d6a6508639fa",
   "metadata": {},
   "outputs": [
    {
     "name": "stdout",
     "output_type": "stream",
     "text": [
      "2.71828\n"
     ]
    }
   ],
   "source": [
    "# Assign a decimal (floating-point number)\n",
    "example_float = 2.71828  # A float with decimals\n",
    "\n",
    "print(example_float)"
   ]
  },
  {
   "cell_type": "code",
   "execution_count": 43,
   "id": "dd5c0e55-64ce-4ca5-bce3-2eade7a04322",
   "metadata": {},
   "outputs": [
    {
     "name": "stdout",
     "output_type": "stream",
     "text": [
      "0.1234567890123\n"
     ]
    }
   ],
   "source": [
    "# Assign a high-precision floating number (13 decimals)\n",
    "high_precision_float = 0.1234567890123  # A more precise float\n",
    "\n",
    "print(high_precision_float)"
   ]
  },
  {
   "cell_type": "code",
   "execution_count": 45,
   "id": "cf5a231d-b015-4eba-9843-012abfffc1f6",
   "metadata": {},
   "outputs": [
    {
     "name": "stdout",
     "output_type": "stream",
     "text": [
      "0.12345678901234568\n"
     ]
    }
   ],
   "source": [
    "# Assign an even higher precision number (20 decimals)\n",
    "very_high_precision_float = 0.12345678901234567890  # A very precise float\n",
    "\n",
    "print(very_high_precision_float)"
   ]
  },
  {
   "cell_type": "code",
   "execution_count": 47,
   "id": "37bbcb10-09bc-400f-b550-b1dd685c27d1",
   "metadata": {},
   "outputs": [
    {
     "name": "stdout",
     "output_type": "stream",
     "text": [
      "X\n"
     ]
    }
   ],
   "source": [
    "# Assign a single uppercase letter\n",
    "uppercase_letter = 'X'  # A single character\n",
    "\n",
    "print(uppercase_letter)"
   ]
  },
  {
   "cell_type": "code",
   "execution_count": 49,
   "id": "be6138a8-9ca3-471a-85fd-c4f521de7926",
   "metadata": {},
   "outputs": [
    {
     "name": "stdout",
     "output_type": "stream",
     "text": [
      "Hello, Python learners!\n"
     ]
    }
   ],
   "source": [
    "# Assign a greeting message\n",
    "greeting_message = \"Hello, Python learners!\"  # A string for greeting\n",
    "\n",
    "print(greeting_message)"
   ]
  },
  {
   "cell_type": "code",
   "execution_count": 51,
   "id": "7f57e252-4213-424b-8b31-6f96a9ffdb46",
   "metadata": {},
   "outputs": [
    {
     "name": "stdout",
     "output_type": "stream",
     "text": [
      "Goodbye and see you next time!\n"
     ]
    }
   ],
   "source": [
    "# Assign a farewell message\n",
    "farewell_message = \"Goodbye and see you next time!\"  # A string for farewell\n",
    "\n",
    "print(farewell_message)"
   ]
  },
  {
   "cell_type": "code",
   "execution_count": 64,
   "id": "5824a570-9a64-4b7a-bc7c-9579bc3c994c",
   "metadata": {},
   "outputs": [
    {
     "name": "stdout",
     "output_type": "stream",
     "text": [
      "13\n"
     ]
    }
   ],
   "source": [
    "# Convert a number to an integer\n",
    "converted_int = int(12.99)  # Removes decimals and keeps the whole number\n",
    "\n",
    "print(my_new_int)"
   ]
  },
  {
   "cell_type": "code",
   "execution_count": 66,
   "id": "d4051f50-191f-4f12-ba3a-3fb22591cf5a",
   "metadata": {},
   "outputs": [
    {
     "name": "stdout",
     "output_type": "stream",
     "text": [
      "2.0\n"
     ]
    }
   ],
   "source": [
    "# Convert a number to a float\n",
    "converted_float = float(2)  # Converts an integer into a floating number\n",
    "\n",
    "print(converted_float)"
   ]
  },
  {
   "cell_type": "code",
   "execution_count": null,
   "id": "ec34d6dd-17ea-4ef5-b29c-5b47e251650a",
   "metadata": {},
   "outputs": [],
   "source": []
  }
 ],
 "metadata": {
  "kernelspec": {
   "display_name": "Python [conda env:base] *",
   "language": "python",
   "name": "conda-base-py"
  },
  "language_info": {
   "codemirror_mode": {
    "name": "ipython",
    "version": 3
   },
   "file_extension": ".py",
   "mimetype": "text/x-python",
   "name": "python",
   "nbconvert_exporter": "python",
   "pygments_lexer": "ipython3",
   "version": "3.12.7"
  },
  "panel-cell-order": [
   "2f59d3cf-206a-4030-987a-6c80e02ad180",
   "193d5c35-9b0f-480f-adef-49c50f1a6821"
  ]
 },
 "nbformat": 4,
 "nbformat_minor": 5
}
